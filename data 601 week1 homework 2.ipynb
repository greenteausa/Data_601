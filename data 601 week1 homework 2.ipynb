{
 "cells": [
  {
   "cell_type": "code",
   "execution_count": 22,
   "metadata": {},
   "outputs": [],
   "source": [
    "import numpy as np\n",
    "total_assignment=[86,87,88,89,89,90,91,90,93,94,93,88,86,80,79,89,98,89,94,98,98,100,94,95,98,98,96,90,99,84,88,86]\n",
    "np.random.choice(total_assignment,10,replace=False)\n",
    "total_project=[88,89,95]\n",
    "total_attendance=[1,0,1,1,1,1,0,1,1,1]"
   ]
  },
  {
   "cell_type": "code",
   "execution_count": 23,
   "metadata": {},
   "outputs": [],
   "source": [
    "random_select_total_assignment=np.random.choice(total_assignment,10,replace=False)"
   ]
  },
  {
   "cell_type": "code",
   "execution_count": 29,
   "metadata": {},
   "outputs": [],
   "source": [
    "def final_score(random_select_total_assignment,total_project,total_attendance):\n",
    "    final_score=sum(random_select_total_assignment)*0.03+sum(total_project)*0.2+sum(total_attendance)*0.1//15\n",
    "    return final_score"
   ]
  },
  {
   "cell_type": "code",
   "execution_count": 25,
   "metadata": {},
   "outputs": [],
   "source": [
    "def final_letter_grade(final_score):\n",
    "    if final_score>=90: return \"A\"\n",
    "    elif final_score>=80: return \"B\"\n",
    "    elif final_score>=70: return \"C\"\n",
    "    elif fianl_score>=60: return \"D\"\n",
    "    else : return \"F\"        "
   ]
  },
  {
   "cell_type": "code",
   "execution_count": 30,
   "metadata": {},
   "outputs": [
    {
     "name": "stdout",
     "output_type": "stream",
     "text": [
      "<function final_score at 0x116a7dd40>\n"
     ]
    }
   ],
   "source": [
    "print(final_score)"
   ]
  },
  {
   "cell_type": "code",
   "execution_count": 31,
   "metadata": {},
   "outputs": [
    {
     "data": {
      "text/plain": [
       "81.37"
      ]
     },
     "execution_count": 31,
     "metadata": {},
     "output_type": "execute_result"
    }
   ],
   "source": [
    "final_score(random_select_total_assignment,total_project,total_attendance)"
   ]
  },
  {
   "cell_type": "code",
   "execution_count": 33,
   "metadata": {},
   "outputs": [
    {
     "data": {
      "text/plain": [
       "'B'"
      ]
     },
     "execution_count": 33,
     "metadata": {},
     "output_type": "execute_result"
    }
   ],
   "source": [
    "final_letter_grade(81.37)"
   ]
  },
  {
   "cell_type": "code",
   "execution_count": null,
   "metadata": {},
   "outputs": [],
   "source": []
  }
 ],
 "metadata": {
  "kernelspec": {
   "display_name": "Python 3",
   "language": "python",
   "name": "python3"
  },
  "language_info": {
   "codemirror_mode": {
    "name": "ipython",
    "version": 3
   },
   "file_extension": ".py",
   "mimetype": "text/x-python",
   "name": "python",
   "nbconvert_exporter": "python",
   "pygments_lexer": "ipython3",
   "version": "3.7.4"
  }
 },
 "nbformat": 4,
 "nbformat_minor": 2
}
